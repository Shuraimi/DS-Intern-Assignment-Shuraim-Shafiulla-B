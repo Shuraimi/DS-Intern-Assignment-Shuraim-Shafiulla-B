{
 "cells": [
  {
   "cell_type": "markdown",
   "id": "c96b03a2-2809-4a25-9509-86da43579498",
   "metadata": {},
   "source": [
    "# Using ARIMA"
   ]
  },
  {
   "cell_type": "code",
   "execution_count": 7,
   "id": "352fc542-61ff-49ce-974e-6364e1e3a141",
   "metadata": {},
   "outputs": [
    {
     "name": "stdout",
     "output_type": "stream",
     "text": [
      "Collecting statsmodels\n",
      "  Downloading statsmodels-0.14.4-cp311-cp311-win_amd64.whl.metadata (9.5 kB)\n",
      "Requirement already satisfied: numpy<3,>=1.22.3 in c:\\users\\welcome\\onedrive\\desktop\\ds intern assignment\\env\\lib\\site-packages (from statsmodels) (1.26.4)\n",
      "Requirement already satisfied: scipy!=1.9.2,>=1.8 in c:\\users\\welcome\\onedrive\\desktop\\ds intern assignment\\env\\lib\\site-packages (from statsmodels) (1.11.4)\n",
      "Requirement already satisfied: pandas!=2.1.0,>=1.4 in c:\\users\\welcome\\onedrive\\desktop\\ds intern assignment\\env\\lib\\site-packages (from statsmodels) (2.1.4)\n",
      "Collecting patsy>=0.5.6 (from statsmodels)\n",
      "  Downloading patsy-1.0.1-py2.py3-none-any.whl.metadata (3.3 kB)\n",
      "Requirement already satisfied: packaging>=21.3 in c:\\users\\welcome\\onedrive\\desktop\\ds intern assignment\\env\\lib\\site-packages (from statsmodels) (23.1)\n",
      "Requirement already satisfied: python-dateutil>=2.8.2 in c:\\users\\welcome\\onedrive\\desktop\\ds intern assignment\\env\\lib\\site-packages (from pandas!=2.1.0,>=1.4->statsmodels) (2.8.2)\n",
      "Requirement already satisfied: pytz>=2020.1 in c:\\users\\welcome\\onedrive\\desktop\\ds intern assignment\\env\\lib\\site-packages (from pandas!=2.1.0,>=1.4->statsmodels) (2023.3.post1)\n",
      "Requirement already satisfied: tzdata>=2022.1 in c:\\users\\welcome\\onedrive\\desktop\\ds intern assignment\\env\\lib\\site-packages (from pandas!=2.1.0,>=1.4->statsmodels) (2023.3)\n",
      "Requirement already satisfied: six>=1.5 in c:\\users\\welcome\\onedrive\\desktop\\ds intern assignment\\env\\lib\\site-packages (from python-dateutil>=2.8.2->pandas!=2.1.0,>=1.4->statsmodels) (1.16.0)\n",
      "Downloading statsmodels-0.14.4-cp311-cp311-win_amd64.whl (9.9 MB)\n",
      "   ---------------------------------------- 0.0/9.9 MB ? eta -:--:--\n",
      "   ---------------------------------------- 0.0/9.9 MB ? eta -:--:--\n",
      "   ---------------------------------------- 0.1/9.9 MB 825.8 kB/s eta 0:00:12\n",
      "    --------------------------------------- 0.2/9.9 MB 1.5 MB/s eta 0:00:07\n",
      "   - -------------------------------------- 0.4/9.9 MB 2.6 MB/s eta 0:00:04\n",
      "   -- ------------------------------------- 0.7/9.9 MB 3.5 MB/s eta 0:00:03\n",
      "   --- ------------------------------------ 0.9/9.9 MB 3.7 MB/s eta 0:00:03\n",
      "   ----- ---------------------------------- 1.3/9.9 MB 4.3 MB/s eta 0:00:03\n",
      "   ----- ---------------------------------- 1.5/9.9 MB 4.3 MB/s eta 0:00:02\n",
      "   ------ --------------------------------- 1.6/9.9 MB 4.2 MB/s eta 0:00:02\n",
      "   ------- -------------------------------- 1.8/9.9 MB 4.1 MB/s eta 0:00:02\n",
      "   ------- -------------------------------- 1.8/9.9 MB 4.2 MB/s eta 0:00:02\n",
      "   ------- -------------------------------- 1.8/9.9 MB 4.2 MB/s eta 0:00:02\n",
      "   ------- -------------------------------- 1.9/9.9 MB 3.3 MB/s eta 0:00:03\n",
      "   --------- ------------------------------ 2.4/9.9 MB 3.9 MB/s eta 0:00:02\n",
      "   ---------- ----------------------------- 2.7/9.9 MB 3.9 MB/s eta 0:00:02\n",
      "   ----------- ---------------------------- 2.8/9.9 MB 3.9 MB/s eta 0:00:02\n",
      "   ------------ --------------------------- 3.0/9.9 MB 3.9 MB/s eta 0:00:02\n",
      "   ------------ --------------------------- 3.2/9.9 MB 3.9 MB/s eta 0:00:02\n",
      "   ------------- -------------------------- 3.4/9.9 MB 3.9 MB/s eta 0:00:02\n",
      "   -------------- ------------------------- 3.5/9.9 MB 3.9 MB/s eta 0:00:02\n",
      "   -------------- ------------------------- 3.7/9.9 MB 3.8 MB/s eta 0:00:02\n",
      "   --------------- ------------------------ 3.9/9.9 MB 3.9 MB/s eta 0:00:02\n",
      "   ---------------- ----------------------- 4.0/9.9 MB 3.9 MB/s eta 0:00:02\n",
      "   ---------------- ----------------------- 4.2/9.9 MB 3.8 MB/s eta 0:00:02\n",
      "   ----------------- ---------------------- 4.4/9.9 MB 3.8 MB/s eta 0:00:02\n",
      "   ------------------ --------------------- 4.5/9.9 MB 3.8 MB/s eta 0:00:02\n",
      "   ------------------- -------------------- 4.7/9.9 MB 3.9 MB/s eta 0:00:02\n",
      "   ------------------- -------------------- 4.9/9.9 MB 3.8 MB/s eta 0:00:02\n",
      "   -------------------- ------------------- 5.1/9.9 MB 3.8 MB/s eta 0:00:02\n",
      "   --------------------- ------------------ 5.3/9.9 MB 3.9 MB/s eta 0:00:02\n",
      "   ---------------------- ----------------- 5.4/9.9 MB 3.9 MB/s eta 0:00:02\n",
      "   ---------------------- ----------------- 5.6/9.9 MB 3.8 MB/s eta 0:00:02\n",
      "   ----------------------- ---------------- 5.8/9.9 MB 3.8 MB/s eta 0:00:02\n",
      "   ------------------------ --------------- 6.0/9.9 MB 3.8 MB/s eta 0:00:02\n",
      "   ------------------------ --------------- 6.2/9.9 MB 3.9 MB/s eta 0:00:01\n",
      "   ------------------------- -------------- 6.3/9.9 MB 3.8 MB/s eta 0:00:01\n",
      "   -------------------------- ------------- 6.5/9.9 MB 3.9 MB/s eta 0:00:01\n",
      "   --------------------------- ------------ 6.7/9.9 MB 3.9 MB/s eta 0:00:01\n",
      "   --------------------------- ------------ 6.9/9.9 MB 3.9 MB/s eta 0:00:01\n",
      "   ---------------------------- ----------- 7.1/9.9 MB 3.9 MB/s eta 0:00:01\n",
      "   ----------------------------- ---------- 7.2/9.9 MB 3.9 MB/s eta 0:00:01\n",
      "   ------------------------------ --------- 7.4/9.9 MB 3.9 MB/s eta 0:00:01\n",
      "   ------------------------------ --------- 7.6/9.9 MB 3.9 MB/s eta 0:00:01\n",
      "   ------------------------------- -------- 7.8/9.9 MB 3.9 MB/s eta 0:00:01\n",
      "   -------------------------------- ------- 8.0/9.9 MB 3.9 MB/s eta 0:00:01\n",
      "   --------------------------------- ------ 8.1/9.9 MB 3.9 MB/s eta 0:00:01\n",
      "   --------------------------------- ------ 8.3/9.9 MB 3.9 MB/s eta 0:00:01\n",
      "   ---------------------------------- ----- 8.5/9.9 MB 3.9 MB/s eta 0:00:01\n",
      "   ----------------------------------- ---- 8.7/9.9 MB 3.9 MB/s eta 0:00:01\n",
      "   ------------------------------------ --- 8.9/9.9 MB 3.9 MB/s eta 0:00:01\n",
      "   ------------------------------------ --- 9.1/9.9 MB 3.9 MB/s eta 0:00:01\n",
      "   ------------------------------------- -- 9.2/9.9 MB 3.9 MB/s eta 0:00:01\n",
      "   -------------------------------------- - 9.4/9.9 MB 3.9 MB/s eta 0:00:01\n",
      "   ---------------------------------------  9.6/9.9 MB 3.9 MB/s eta 0:00:01\n",
      "   ---------------------------------------  9.8/9.9 MB 3.9 MB/s eta 0:00:01\n",
      "   ---------------------------------------  9.9/9.9 MB 3.9 MB/s eta 0:00:01\n",
      "   ---------------------------------------- 9.9/9.9 MB 3.8 MB/s eta 0:00:00\n",
      "Downloading patsy-1.0.1-py2.py3-none-any.whl (232 kB)\n",
      "   ---------------------------------------- 0.0/232.9 kB ? eta -:--:--\n",
      "   -------------------------------------- - 225.3/232.9 kB 6.9 MB/s eta 0:00:01\n",
      "   ---------------------------------------- 232.9/232.9 kB 4.7 MB/s eta 0:00:00\n",
      "Installing collected packages: patsy, statsmodels\n",
      "Successfully installed patsy-1.0.1 statsmodels-0.14.4\n"
     ]
    }
   ],
   "source": [
    "! pip install statsmodels"
   ]
  },
  {
   "cell_type": "code",
   "execution_count": 8,
   "id": "b7e80701-fff5-4faa-bb45-837f3e26d62e",
   "metadata": {},
   "outputs": [],
   "source": [
    "# packages\n",
    "import pandas as pd\n",
    "import matplotlib.pyplot as plt\n",
    "from statsmodels.tsa.stattools import adfuller\n",
    "from statsmodels.graphics.tsaplots import plot_acf, plot_pacf\n",
    "from statsmodels.tsa.arima.model import ARIMA\n",
    "from sklearn.metrics import mean_squared_error"
   ]
  },
  {
   "cell_type": "code",
   "execution_count": 3,
   "id": "3bb0553f-48e0-4425-b9db-97b62619c209",
   "metadata": {},
   "outputs": [],
   "source": [
    "# load data\n",
    "data=pd.read_csv('data/data.csv',parse_dates=['timestamp'])"
   ]
  },
  {
   "cell_type": "code",
   "execution_count": 9,
   "id": "078febc7-621b-4005-9b04-1c6ef4365f35",
   "metadata": {},
   "outputs": [],
   "source": [
    "# Define the path to your CSV file\n",
    "# You may have to make this path more specific to the location of your file.\n",
    "csv_path = 'data/data.csv'\n",
    "\n",
    "# Read the CSV, parse 'Date' column as datetime, and set it as the index\n",
    "data = pd.read_csv(\n",
    "    csv_path,\n",
    "    parse_dates=[\"timestamp\"],\n",
    "    dayfirst=False,\n",
    "    index_col=\"timestamp\"\n",
    ")\n",
    "\n",
    "# Sort the DataFrame by the Date index in ascending order\n",
    "data.sort_index(inplace=True)"
   ]
  },
  {
   "cell_type": "markdown",
   "id": "143c09a2-07cb-4792-b021-a6ebf26c4f8e",
   "metadata": {},
   "source": [
    "## Data preprocessing"
   ]
  },
  {
   "cell_type": "code",
   "execution_count": 10,
   "id": "255bfde0-deb6-4f28-8686-3744cc0b1326",
   "metadata": {},
   "outputs": [],
   "source": [
    "# split data\n",
    "train_and_valid_size=int(len(data)*0.8)\n",
    "train_and_valid_data=data.iloc[:train_and_valid_size]\n",
    "test_data=data.iloc[train_and_valid_size:]"
   ]
  },
  {
   "cell_type": "code",
   "execution_count": 11,
   "id": "b992821a-a654-4907-94e7-f52b545ac239",
   "metadata": {},
   "outputs": [],
   "source": [
    "# split train_and_valid_data in 80-20\n",
    "train_size=int(len(train_and_valid_data)*0.8)\n",
    "train_data=train_and_valid_data.iloc[:train_size]\n",
    "valid_data=train_and_valid_data.iloc[train_size:]"
   ]
  },
  {
   "cell_type": "code",
   "execution_count": null,
   "id": "b76b055f-ceb0-428f-ad55-4fa654701ab8",
   "metadata": {},
   "outputs": [],
   "source": []
  }
 ],
 "metadata": {
  "kernelspec": {
   "display_name": "Python 3 (ipykernel)",
   "language": "python",
   "name": "python3"
  },
  "language_info": {
   "codemirror_mode": {
    "name": "ipython",
    "version": 3
   },
   "file_extension": ".py",
   "mimetype": "text/x-python",
   "name": "python",
   "nbconvert_exporter": "python",
   "pygments_lexer": "ipython3",
   "version": "3.11.8"
  }
 },
 "nbformat": 4,
 "nbformat_minor": 5
}
